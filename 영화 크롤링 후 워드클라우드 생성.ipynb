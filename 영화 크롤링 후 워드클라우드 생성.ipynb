{
 "cells": [
  {
   "cell_type": "code",
   "execution_count": null,
   "id": "9f74a010",
   "metadata": {},
   "outputs": [],
   "source": [
    "import requests\n",
    "import pandas as pd \n",
    "from bs4 import BeautifulSoup\n",
    "import urllib.request\n",
    "import re\n",
    "from konlpy.tag import Okt"
   ]
  },
  {
   "cell_type": "code",
   "execution_count": null,
   "id": "60b7ecf8",
   "metadata": {},
   "outputs": [],
   "source": [
    "pres=['https://movie.naver.com/movie/bi/mi/pointWriteFormList.naver?code=161967&type=after&onlyActualPointYn=N&onlySpoilerPointYn=N&order=highest&page=1',\n",
    "'https://movie.naver.com/movie/bi/mi/pointWriteFormList.naver?code=161967&type=after&onlyActualPointYn=N&onlySpoilerPointYn=N&order=lowest&page=1']"
   ]
  },
  {
   "cell_type": "code",
   "execution_count": null,
   "id": "d0f4e680",
   "metadata": {},
   "outputs": [],
   "source": [
    "#데이터양 \n",
    "\n",
    "review = []\n",
    "rate =[]\n",
    "target=[]\n",
    "\n",
    "for pre in pres:\n",
    "    for i in range(1,200):\n",
    "        url=pre+str(i)\n",
    "        res=requests.get(url)\n",
    "        soup=BeautifulSoup(res.content,'html.parser')\n",
    "        \n",
    "        id_list=[]\n",
    "        id_pre='_filtered_ment_'\n",
    "        \n",
    "        for i in range(10):\n",
    "            id_list.append(id_pre+str(i))\n",
    "        \n",
    "        for id in id_list:\n",
    "            review.append(soup.find('span',{'id':id}).get_text().strip())\n",
    "            \n",
    "        rate_list =[]\n",
    "        rate_list =(soup.select('div.star_score > em'))\n",
    "        \n",
    "        for i in range(10):\n",
    "            r = int(re.sub('<.+?>','',str(rate_list[i])))\n",
    "            rate.append(r)\n",
    "            if r>=8:\n",
    "                target.append(1)\n",
    "            elif r<=4:\n",
    "                target.append(0)\n",
    "            else:\n",
    "                target.append(-1)\n",
    "        \n",
    "\n",
    "df=pd.DataFrame({'review':review,'rate':rate,'target':target})\n",
    "df"
   ]
  },
  {
   "cell_type": "code",
   "execution_count": null,
   "id": "ca8bcdab",
   "metadata": {},
   "outputs": [],
   "source": [
    "df.rate.unique()"
   ]
  },
  {
   "cell_type": "code",
   "execution_count": null,
   "id": "94a7e1cc",
   "metadata": {},
   "outputs": [],
   "source": [
    "from sklearn.model_selection import train_test_split\n",
    "\n",
    "train_x,test_x,train_y,test_y=train_test_split(review,target,test_size=0.2,random_state=0)\n",
    "\n",
    "len(train_x),len(train_y)\n",
    "len(test_x),len(test_y)"
   ]
  },
  {
   "cell_type": "code",
   "execution_count": null,
   "id": "54a1d654",
   "metadata": {},
   "outputs": [],
   "source": [
    "#텍스트 데이터의 백터화\n",
    "from konlpy.tag import Okt\n",
    "from sklearn.feature_extraction.text import TfidfVectorizer\n",
    "okt=Okt()\n",
    "\n",
    "tfv = TfidfVectorizer(tokenizer=okt.morphs,ngram_range=(1,2),min_df=3,max_df=0.9)\n",
    "tfv.fit(train_x)\n",
    "\n",
    "tfv_train_x = tfv.transform(train_x)\n",
    "tfv_train_x\n"
   ]
  },
  {
   "cell_type": "code",
   "execution_count": null,
   "id": "c57478a6",
   "metadata": {},
   "outputs": [],
   "source": [
    "#로지스틱 회귀 모형으로 모델 적합 \n",
    "from sklearn.linear_model import LogisticRegression\n",
    "from sklearn.experimental import enable_halving_search_cv \n",
    "from sklearn.model_selection import GridSearchCV\n",
    "\n",
    "clf = LogisticRegression(random_state=0)\n",
    "params = {'C':[1,3,5,7,9]}\n",
    "grid_cv = GridSearchCV(clf,param_grid=params,cv=4,scoring=\"accuracy\",verbose=1)\n",
    "grid_cv.fit(tfv_train_x,train_y)"
   ]
  },
  {
   "cell_type": "code",
   "execution_count": null,
   "id": "5558a31b",
   "metadata": {},
   "outputs": [],
   "source": [
    "#테스트 데이터를 통한 예측 정확도 산출 \n",
    "tfv_test_x=tfv.transform(test_x)\n",
    "grid_cv.best_estimator_.score(tfv_test_x,test_y)"
   ]
  },
  {
   "cell_type": "code",
   "execution_count": null,
   "id": "017e04b2",
   "metadata": {},
   "outputs": [],
   "source": [
    "#영화 리뷰에 대한 긍부정 분류 \n",
    "my_review = tfv.transform([input()])\n",
    "if(grid_cv.best_estimator_.predict(my_review)):\n",
    "    print(\"긍정 리뷰\")\n",
    "else:\n",
    "    print(\"부정 리뷰\")"
   ]
  },
  {
   "cell_type": "code",
   "execution_count": null,
   "id": "fbfa3875",
   "metadata": {},
   "outputs": [],
   "source": [
    "import numpy as np \n",
    "import matplotlib.pyplot as plt\n",
    "from collections import Counter\n",
    "okt = Okt()"
   ]
  },
  {
   "cell_type": "code",
   "execution_count": null,
   "id": "5b5b304b",
   "metadata": {},
   "outputs": [],
   "source": [
    "word_list = []\n",
    "word_list = df[\"review\"]"
   ]
  },
  {
   "cell_type": "code",
   "execution_count": null,
   "id": "154e1f4c",
   "metadata": {},
   "outputs": [],
   "source": [
    "#형태소 분리 \n",
    "sentences_tag = []\n",
    "\n",
    "for sentence in word_list: \n",
    "    morph = okt.pos(sentence)\n",
    "    sentences_tag.append(morph)"
   ]
  },
  {
   "cell_type": "code",
   "execution_count": null,
   "id": "206cce6d",
   "metadata": {},
   "outputs": [],
   "source": [
    "sentences_tag"
   ]
  },
  {
   "cell_type": "code",
   "execution_count": null,
   "id": "5ff40935",
   "metadata": {},
   "outputs": [],
   "source": [
    "#명사만 추출 \n",
    "noun_list = [] \n",
    "for sentence in sentences_tag:\n",
    "    for word, tag in sentence:\n",
    "        if tag in [\"Noun\"]:\n",
    "            noun_list.append(word)"
   ]
  },
  {
   "cell_type": "code",
   "execution_count": null,
   "id": "60594efd",
   "metadata": {},
   "outputs": [],
   "source": [
    "noun_list"
   ]
  },
  {
   "cell_type": "code",
   "execution_count": null,
   "id": "7824459a",
   "metadata": {},
   "outputs": [],
   "source": [
    "len(noun_list)\n",
    "#글자 길이가 1인것은 제외 \n",
    "noun_list = [n for n in noun_list if len(n)>1] \n",
    "noun_list[:80]"
   ]
  },
  {
   "cell_type": "code",
   "execution_count": null,
   "id": "efc6a33a",
   "metadata": {},
   "outputs": [],
   "source": [
    "#단어별 갯수 세기 \n",
    "counts = Counter(noun_list)\n",
    "tags = counts.most_common(40)\n",
    "tags"
   ]
  },
  {
   "cell_type": "code",
   "execution_count": null,
   "id": "f9a1f0cb",
   "metadata": {},
   "outputs": [],
   "source": [
    "#불필요한 단어 삭제\n",
    "tags.remove(('그냥',119))\n",
    "tags.remove(('보고',199))\n",
    "tags.remove(('영화',2075))\n",
    "tags.remove(('하나',89))"
   ]
  },
  {
   "cell_type": "code",
   "execution_count": null,
   "id": "0db1ed16",
   "metadata": {},
   "outputs": [],
   "source": [
    "from urllib import request\n",
    "from wordcloud import WordCloud, ImageColorGenerator\n",
    "import matplotlib.pyplot as plt\n",
    "from PIL import Image"
   ]
  },
  {
   "cell_type": "code",
   "execution_count": null,
   "id": "1f89a958",
   "metadata": {},
   "outputs": [],
   "source": [
    "from google.colab import files \n",
    "uploaded = files.upload()\n",
    "!ls"
   ]
  },
  {
   "cell_type": "code",
   "execution_count": null,
   "id": "f87f1119",
   "metadata": {},
   "outputs": [],
   "source": [
    "#워드클라우드 마스크 이미지 설정 \n",
    "mask = np.array(Image.open(\"person_a.png\"))\n",
    "\n",
    "plt.figure(figsize=(8,8))\n",
    "plt.imshow(mask)\n",
    "plt.axis('off')\n",
    "plt.show \n",
    "\n",
    "from wordcloud import  ImageColorGenerator\n",
    "image_colors = ImageColorGenerator(mask)"
   ]
  },
  {
   "cell_type": "code",
   "execution_count": null,
   "id": "f9e7bb24",
   "metadata": {},
   "outputs": [],
   "source": [
    "#워드클라우드 만들기/폰트 설정\n",
    "from wordcloud import WordCloud "
   ]
  },
  {
   "cell_type": "code",
   "execution_count": null,
   "id": "d5dcd74e",
   "metadata": {},
   "outputs": [],
   "source": [
    "font_path = '/usr/share/fonts/truetype/nanum/NanumMyeongjoBold.ttf'\n",
    "wc =WordCloud(font_path=font_path, background_color='white', width=800, height=600, mask=mask)\n",
    "cloud = wc.generate_from_frequencies(dict(tags))\n",
    "plt.figure(figsize=(10,8))\n",
    "plt.axis('off')\n",
    "plt.imshow(cloud)"
   ]
  },
  {
   "cell_type": "code",
   "execution_count": null,
   "id": "2143f23f",
   "metadata": {},
   "outputs": [],
   "source": []
  },
  {
   "cell_type": "code",
   "execution_count": null,
   "id": "da3f2508",
   "metadata": {},
   "outputs": [],
   "source": []
  }
 ],
 "metadata": {
  "kernelspec": {
   "display_name": "Python 3 (ipykernel)",
   "language": "python",
   "name": "python3"
  },
  "language_info": {
   "codemirror_mode": {
    "name": "ipython",
    "version": 3
   },
   "file_extension": ".py",
   "mimetype": "text/x-python",
   "name": "python",
   "nbconvert_exporter": "python",
   "pygments_lexer": "ipython3",
   "version": "3.8.2"
  }
 },
 "nbformat": 4,
 "nbformat_minor": 5
}
