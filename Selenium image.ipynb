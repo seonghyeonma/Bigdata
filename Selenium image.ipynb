{
 "cells": [
  {
   "cell_type": "markdown",
   "id": "6c5a5b0b",
   "metadata": {},
   "source": [
    "### 60191107 Selenium을 이용하여 임의의 사이트에서 이미지를 가져와 저장"
   ]
  },
  {
   "cell_type": "markdown",
   "id": "2aa9c88e",
   "metadata": {},
   "source": [
    "### 8주차 단톡 과제"
   ]
  },
  {
   "cell_type": "code",
   "execution_count": 10,
   "id": "e76300f6",
   "metadata": {
    "scrolled": true
   },
   "outputs": [
    {
     "name": "stdout",
     "output_type": "stream",
     "text": [
      "Requirement already satisfied: selenium==3.141 in /Users/seonghyeonma/opt/anaconda3/lib/python3.8/site-packages (3.141.0)\n",
      "Requirement already satisfied: urllib3 in /Users/seonghyeonma/opt/anaconda3/lib/python3.8/site-packages (from selenium==3.141) (1.26.7)\n",
      "Note: you may need to restart the kernel to use updated packages.\n"
     ]
    }
   ],
   "source": [
    "pip install selenium==3.141"
   ]
  },
  {
   "cell_type": "code",
   "execution_count": 11,
   "id": "1a51f06f",
   "metadata": {},
   "outputs": [],
   "source": [
    "from selenium import webdriver\n",
    "from webdriver_manager.chrome import ChromeDriverManager\n",
    "from selenium.webdriver.common.keys import Keys\n",
    "import time \n",
    "import urllib"
   ]
  },
  {
   "cell_type": "code",
   "execution_count": 15,
   "id": "13683973",
   "metadata": {},
   "outputs": [
    {
     "name": "stderr",
     "output_type": "stream",
     "text": [
      "\n",
      "\n",
      "====== WebDriver manager ======\n",
      "Current google-chrome version is 100.0.4896\n",
      "Get LATEST chromedriver version for 100.0.4896 google-chrome\n",
      "Driver [/Users/seonghyeonma/.wdm/drivers/chromedriver/mac64/100.0.4896.60/chromedriver] found in cache\n"
     ]
    }
   ],
   "source": [
    "driver = webdriver.Chrome(ChromeDriverManager().install())\n",
    "url = \"http://google.co.kr\"\n",
    "driver.get(url)\n",
    "\n",
    "\n",
    "#timothee chalamet 검색 \n",
    "driver.find_element_by_class_name('gLFyf.gsfi').send_keys('timothee chalamet')\n",
    "driver.find_element_by_class_name('gLFyf.gsfi').send_keys(Keys.ENTER)\n",
    "driver.find_element_by_css_selector('#hdtb-msb > div:nth-child(1)>div>div:nth-child(2) >a').click()\n",
    "time.sleep(2)\n",
    "\n",
    "images = driver.find_elements_by_css_selector('.rg_i.Q4LuWd')\n",
    "count = 1\n",
    "\n",
    "\n",
    "for image in images:\n",
    "    image.click()\n",
    "    time.sleep(2)\n",
    "    img = driver.find_element_by_css_selector(\".n3VNCb\").get_attribute(\"src\")\n",
    "    urllib.request.urlretrieve(img,\"/Users/seonghyeonma/Desktop/timmy/{}.jpg\".format(count))\n",
    "    count= count+1\n",
    "    if count ==31:\n",
    "        break"
   ]
  }
 ],
 "metadata": {
  "kernelspec": {
   "display_name": "Python 3 (ipykernel)",
   "language": "python",
   "name": "python3"
  },
  "language_info": {
   "codemirror_mode": {
    "name": "ipython",
    "version": 3
   },
   "file_extension": ".py",
   "mimetype": "text/x-python",
   "name": "python",
   "nbconvert_exporter": "python",
   "pygments_lexer": "ipython3",
   "version": "3.8.2"
  }
 },
 "nbformat": 4,
 "nbformat_minor": 5
}
