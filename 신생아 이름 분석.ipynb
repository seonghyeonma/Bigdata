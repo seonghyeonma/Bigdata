{
  "cells": [
    {
      "cell_type": "code",
      "execution_count": null,
      "metadata": {
        "id": "-53NgjMGXnm0"
      },
      "outputs": [],
      "source": [
        "!apt install fonts-nanum*"
      ]
    },
    {
      "cell_type": "code",
      "execution_count": null,
      "metadata": {
        "id": "SmWVxMuodPFU"
      },
      "outputs": [],
      "source": [
        "!sudo apt-get install -y fonts-nanum\n"
      ]
    },
    {
      "cell_type": "code",
      "execution_count": null,
      "metadata": {
        "id": "R0b8cEjEXnkN"
      },
      "outputs": [],
      "source": [
        "!rm ~/.cache/matplotlib -rf"
      ]
    },
    {
      "cell_type": "code",
      "execution_count": null,
      "metadata": {
        "id": "hN1ZVOC8Xnh3"
      },
      "outputs": [],
      "source": [
        "import numpy as np\n",
        "import pandas as pd\n",
        "import matplotlib.pyplot as plt\n",
        "from google.colab import drive\n",
        "from matplotlib import font_manager, rc\n",
        "import matplotlib as mpl\n",
        "plt.rc('font', family='NanumBarunGothic') \n"
      ]
    },
    {
      "cell_type": "code",
      "execution_count": null,
      "metadata": {
        "id": "ILoRF0BqXnfy"
      },
      "outputs": [],
      "source": [
        "#폰트, 드라이브, 패스 설정\n",
        "font_path = '/usr/share/fonts/truetype/nanum/NanumGothic.ttf'\n",
        "font = font_manager.FontProperties(fname=font_path).get_name()\n",
        "rc('font',family=font)\n",
        "\n",
        "\n",
        "drive.mount('/content/drive')\n",
        "path = '/content/drive/MyDrive/Colab Notebooks/데청캠2022/names'"
      ]
    },
    {
      "cell_type": "code",
      "execution_count": null,
      "metadata": {
        "id": "Mw-3TJqaYPdm"
      },
      "outputs": [],
      "source": [
        "#1880년 신생아 이름 출력\n",
        "df_names1880 = pd.read_csv(path+'/yob1880.txt',\n",
        "                           names=['name','gender','number'])\n",
        "df_names1880"
      ]
    },
    {
      "cell_type": "code",
      "execution_count": null,
      "metadata": {
        "id": "eU8YuTvkXndd"
      },
      "outputs": [],
      "source": [
        "#1880년 신생아 수 \n",
        "df_names1880.groupby('gender')['number'].sum()"
      ]
    },
    {
      "cell_type": "code",
      "execution_count": null,
      "metadata": {
        "id": "75roRNcpXnbG"
      },
      "outputs": [],
      "source": [
        "#전체 이름 불러오기\n",
        "years = range(1880,2022)\n",
        "pieces = list()\n",
        "columns = ['name','gender','number']\n",
        "\n",
        "for year in years:\n",
        "    print(year,end=': ')\n",
        "    df_names = pd.read_csv(path+'/yob'+str(year)+'.txt',names=columns)\n",
        "\n",
        "    df_names['year']=year\n",
        "    pieces.append(df_names) #exit for \n",
        "\n",
        "df_names_all = pd.concat(pieces, ignore_index=True)"
      ]
    },
    {
      "cell_type": "code",
      "execution_count": null,
      "metadata": {
        "id": "1A-0C6XzXnYw"
      },
      "outputs": [],
      "source": [
        "df_names_all"
      ]
    },
    {
      "cell_type": "code",
      "execution_count": null,
      "metadata": {
        "id": "CYjCwiHZXnWb"
      },
      "outputs": [],
      "source": [
        "#연도별 신생아 수 \n",
        "#pivot_table 은 매개변수 index를 index 정보, columns = Columnes, values=에 특정행동(aggfunc)을 dataframe으로 생성\n",
        "total_births=df_names_all.pivot_table('number',index='year',columns='gender',aggfunc=sum)"
      ]
    },
    {
      "cell_type": "code",
      "execution_count": null,
      "metadata": {
        "id": "qL37dFbOXnUE"
      },
      "outputs": [],
      "source": [
        "total_births.plot(title=\"연도별 신생아 수\")\n",
        "plt.show()"
      ]
    },
    {
      "cell_type": "code",
      "execution_count": null,
      "metadata": {
        "id": "JEmnS2pfXnRt"
      },
      "outputs": [],
      "source": [
        "#각 이름이 전체 신생아 수에서 차지하는 비율 prop \n",
        "#메소드 groupby에서 적용할 메소드 add_prop 선언\n",
        "def add_prop(group):\n",
        "    group['prop']=group['number']/group['number'].sum()\n",
        "    return group\n",
        "#특정 년도가 담겨진 객체를 groupby후 메소드 연산 진행, 기존 객체에 새로운 열 prop추가후 새로운 객체 df_name_prop생성\n",
        "df_names_prop = df_names_all.groupby(['year','gender']).apply(add_prop)\n",
        "\n",
        "df_names_prop"
      ]
    },
    {
      "cell_type": "code",
      "execution_count": null,
      "metadata": {
        "id": "_1pkYQEuXnPo"
      },
      "outputs": [],
      "source": [
        "#비율의 합 출력\n",
        "#연도/성별로 나눈 비율의 합이 1인지 확인, 객체 datagrame이 너무 길어서 요약되면 string문자열 형태로 변환 후 출력\n",
        "df_names_prop.groupby(['year','gender'])['prop'].sum()"
      ]
    },
    {
      "cell_type": "code",
      "execution_count": null,
      "metadata": {
        "id": "gALxHprXXnNS"
      },
      "outputs": [],
      "source": [
        "#각 이름이 차지하는 비율 중 상위 1000개 year, gender로 groupby후 결과 \n",
        "#생성 값은 number을 기준으로 내림차순 정렬후 상위 1000개를 추출\n",
        "pieces = list()\n",
        "\n",
        "for year_gender, group in df_names_prop.groupby(['year','gender']):\n",
        "    pieces.append(group.sort_values(by='number',ascending=False)[:1000])\n",
        "    top1000 = pd.concat(pieces, ignore_index=True)"
      ]
    },
    {
      "cell_type": "code",
      "execution_count": null,
      "metadata": {
        "id": "_qZm1brHXnK8"
      },
      "outputs": [],
      "source": [
        "top1000"
      ]
    },
    {
      "cell_type": "code",
      "execution_count": null,
      "metadata": {
        "id": "PPMNyyz4XnGR"
      },
      "outputs": [],
      "source": [
        "#연도별 손호하는 신생아 이름 상위 1000개 남 녀\n",
        "top1000_boys = top1000[top1000['gender']=='M']\n",
        "top1000_girls = top1000[top1000['gender']=='F']\n",
        "\n",
        "top1000_boys.head()\n",
        "top1000_girls.head()"
      ]
    },
    {
      "cell_type": "code",
      "execution_count": null,
      "metadata": {
        "id": "l8IhGihqXnDr"
      },
      "outputs": [],
      "source": [
        "#연도별 선호하는 이름 변화 top100에서 number을 기준으로 year/columns의 합계 계산 \n",
        "# 그중 4개를 가져다가 변화량 봄\n",
        "total_number = top1000.pivot_table('number',index='year',columns='name',aggfunc=sum)\n",
        "\n",
        "subset=total_number[['John','James','Mary','Emma']]\n",
        "\n",
        "subset.plot(subplots=True,figsize=(12,10),\n",
        "            title=\"연도별 출생순\")\n",
        "plt.show()"
      ]
    },
    {
      "cell_type": "code",
      "execution_count": null,
      "metadata": {
        "id": "w5GULDDzbYQX"
      },
      "outputs": [],
      "source": [
        "#신생아 이름의 다양성 분석 prop을 기준으로 year/gender의 합계 계산\n",
        "#prop은 비율이므로 합계가 1을 넘지 않음\n",
        "table=top1000.pivot_table('prop',index='year',columns='gender',aggfunc=sum)"
      ]
    },
    {
      "cell_type": "code",
      "execution_count": null,
      "metadata": {
        "id": "eu7KwiKQbYOB"
      },
      "outputs": [],
      "source": [
        "table.plot(title=\"연도별 상위 1000개 이름의 비율\",yticks=np.linspace(0,1.2,13),xticks=range(1880,2030,10))\n",
        "plt.show()"
      ]
    },
    {
      "cell_type": "code",
      "execution_count": null,
      "metadata": {
        "id": "hv2I8roNbYLr"
      },
      "outputs": [],
      "source": [
        "#2021년 상위 1000개의 이름의 통계 \n",
        "#prop으로 누적한 후 내림차순 정렬그리고 중앙 50%을 출력, \n",
        "df = top1000_boys[top1000_boys['year']==2021]\n",
        "df_prop_cumsum=df.sort_values(by='prop',ascending=False)['prop'].cumsum()\n",
        "\n",
        "df"
      ]
    },
    {
      "cell_type": "code",
      "execution_count": null,
      "metadata": {
        "id": "YyvJc_3WbYG_"
      },
      "outputs": [],
      "source": [
        "#메소드 seatchsorted는 객체의 매개변수 v에 인접한 위치를 알려줌\n",
        "df_prop_cumsum[:10]\n",
        "df_prop_cumsum.values.searchsorted(0.5)"
      ]
    },
    {
      "cell_type": "code",
      "execution_count": null,
      "metadata": {
        "id": "rGLuRYawbYEp"
      },
      "outputs": [],
      "source": [
        "#1921년 상위 1000개의 이름의 통계\n",
        "df = top1000_boys[top1000_boys['year']==1921]\n",
        "df_prop_cumsum= df.sort_values(by='prop',ascending=False)['prop'].cumsum()\n",
        "df\n",
        "df_prop_cumsum[:10]\n",
        "df_prop_cumsum.values.searchsorted(0.5)"
      ]
    },
    {
      "cell_type": "code",
      "execution_count": null,
      "metadata": {
        "id": "lMz6gDoRbYCk"
      },
      "outputs": [],
      "source": [
        "#다시 신생아 이름의 다양성 분석 \n",
        "#상위 1000개의 이름이 담긴 객체 top1000을 그룹후 특정 메소드 연산을 진행\n",
        "def get_quantile_count(group,q=0.5):\n",
        "    group= group.sort_values(by='prop',ascending=False)\n",
        "    return group.prop.cumsum().values.searchsorted(q)+1"
      ]
    },
    {
      "cell_type": "code",
      "execution_count": null,
      "metadata": {
        "id": "CIoxMXREbYAN"
      },
      "outputs": [],
      "source": [
        "diversity=top1000.groupby(['year','gender']).apply(get_quantile_count)\n",
        "diversity=diversity.unstack('gender')\n",
        "\n",
        "diversity.plot(title=\"연도별 상위 1000개의 이름 중 50%가 가진 이름의 수\")\n",
        "plt.show()"
      ]
    },
    {
      "cell_type": "code",
      "execution_count": null,
      "metadata": {
        "id": "raEq1ByibX93"
      },
      "outputs": [],
      "source": [
        "#신생아 이름의 마지막 글자의 변화 \n",
        "#마지막 글자만 가져와서 index 정보 last_letters와 columns 정보 gender/year을 기준으로 number 값을 더한 객체 생성\n",
        "get_last_letter = lambda x: x[-1]\n",
        "last_letter= df_names_all['name'].map(get_last_letter)\n",
        "\n",
        "last_letter['name']='last_letter'\n",
        "\n",
        "table = df_names_all.pivot_table('number',index=last_letter,columns=['gender','year'],aggfunc=sum)\n",
        "table"
      ]
    },
    {
      "cell_type": "code",
      "execution_count": null,
      "metadata": {
        "id": "gs6blOSmbX7h"
      },
      "outputs": [],
      "source": [
        "#신생아 이름의 마지막 글자의 비율 \n",
        "#특정년도 자료만 추출하고 이를 비율로 변경한 객체 letterprop 생성\n",
        "subtable=table.reindex(columns=[1900,1930,1960,1990,2020],level='year')\n",
        "\n",
        "letter_prop = subtable/subtable.sum()\n",
        "letter_prop"
      ]
    },
    {
      "cell_type": "code",
      "execution_count": null,
      "metadata": {
        "id": "aH3RK-trbX5M"
      },
      "outputs": [],
      "source": [
        "#다시 신생아 이름의 마지막 글자의 변화\n",
        "# 각글자의 비율 계산후 letter_prop으로 막대 그래프 생성, bar, rot로 글씨의 기울기 설정(안할시 기우려서 나옴) \n",
        "fig, axes = plt.subplots(2,1,figsize=(20,12))\n",
        "fig.suptitle('성별 마지막 글자 빈도수',fontsize=16)\n",
        "\n",
        "letter_prop['M'].plot.bar(ax=axes[0], title='Male', rot=0)\n",
        "letter_prop['F'].plot.bar(ax=axes[1], title='Female', rot=0)\n",
        "plt.show()"
      ]
    },
    {
      "cell_type": "code",
      "execution_count": null,
      "metadata": {
        "id": "aVox2P5GbX2l"
      },
      "outputs": [],
      "source": [
        "#신생아 이름 중 흔한 마지막 글자 d/e/n/y\n",
        "letter_prop = table/table.sum()\n",
        "deny_t = letter_prop.loc[['d','e','n','y'],'M'].T\n",
        "deny_t.plot(title=\"연도별 d/e/n/y로 끝나는 남자 이름의 변화\")\n",
        "plt.show()"
      ]
    },
    {
      "cell_type": "code",
      "execution_count": null,
      "metadata": {
        "id": "w7bWnjB8leCc"
      },
      "outputs": [],
      "source": [
        "#남자 신생아 이름과 여자 신생아 이름이 바뀐 경우 \n",
        "#lesl이라는 문자열 사용 (전체 이름중 lesl이 들어간 문자열만 추출, 이름을 소문자로 바뀌어 연도 성별 무관하게 합)\n",
        "all_names = pd.Series(top1000['name'].unique())\n",
        "lesley_like = all_names[all_names.str.lower().str.contains('lesl')]\n",
        "\n",
        "filtered = top1000[top1000['name'].isin(lesley_like)]\n",
        "filtered.groupby('name')['number'].sum()"
      ]
    },
    {
      "cell_type": "code",
      "execution_count": null,
      "metadata": {
        "id": "hL0r14--ld_2"
      },
      "outputs": [],
      "source": [
        "#추출한 이름을 토대로 index 정보 year & columns의 gender 를 기준으로 number을 더한객체 테이블 생성\n",
        "table = filtered.pivot_table('number', index='year',columns='gender',aggfunc='sum')\n",
        "table= table.div(table.sum(1),axis=0)\n",
        "\n",
        "table['M'].plot()\n",
        "table['F'].plot()\n",
        "plt.title('연도별 lesl라는 단어가 들어간 이름 비율')\n",
        "plt.legend()\n",
        "plt.show()"
      ]
    }
  ],
  "metadata": {
    "colab": {
      "collapsed_sections": [],
      "name": "시군구명 변경 + 신생아 이름 분석.ipynb",
      "private_outputs": true,
      "provenance": []
    },
    "kernelspec": {
      "display_name": "Python 3",
      "name": "python3"
    },
    "language_info": {
      "name": "python"
    }
  },
  "nbformat": 4,
  "nbformat_minor": 0
}
