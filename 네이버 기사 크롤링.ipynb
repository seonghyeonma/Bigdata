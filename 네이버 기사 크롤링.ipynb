{
 "cells": [
  {
   "cell_type": "markdown",
   "id": "79029fbf",
   "metadata": {},
   "source": [
    "## 60191107 경영정보학과 마성현 5주차 과제 1"
   ]
  },
  {
   "cell_type": "markdown",
   "id": "0766a5c8",
   "metadata": {},
   "source": [
    "### 1. 기사제목"
   ]
  },
  {
   "cell_type": "code",
   "execution_count": 63,
   "id": "8eaa503c",
   "metadata": {},
   "outputs": [],
   "source": [
    "import requests\n",
    "from bs4 import BeautifulSoup"
   ]
  },
  {
   "cell_type": "code",
   "execution_count": 64,
   "id": "81199f88",
   "metadata": {},
   "outputs": [],
   "source": [
    "res = requests.get(\"https://n.news.naver.com/article/008/0004727138?cds=news_media_pc\")"
   ]
  },
  {
   "cell_type": "code",
   "execution_count": 65,
   "id": "67f7071b",
   "metadata": {},
   "outputs": [],
   "source": [
    "soup = BeautifulSoup (res.content,'html.parser')"
   ]
  },
  {
   "cell_type": "code",
   "execution_count": 66,
   "id": "7582595b",
   "metadata": {},
   "outputs": [],
   "source": [
    "mydata = soup.find('title')"
   ]
  },
  {
   "cell_type": "code",
   "execution_count": 67,
   "id": "8f20e44d",
   "metadata": {},
   "outputs": [
    {
     "name": "stdout",
     "output_type": "stream",
     "text": [
      "[단독]세계 최대 '냉각수' 공장 중단···삼성·하이닉스 반도체 생산 멈추나\n"
     ]
    }
   ],
   "source": [
    "print(mydata.get_text())"
   ]
  },
  {
   "cell_type": "markdown",
   "id": "b0250fe5",
   "metadata": {},
   "source": [
    "### 2. 본문 날짜 가져오기"
   ]
  },
  {
   "cell_type": "code",
   "execution_count": 68,
   "id": "25d87159",
   "metadata": {},
   "outputs": [],
   "source": [
    "date = soup.find('div','media_end_head_info_datestamp')"
   ]
  },
  {
   "cell_type": "code",
   "execution_count": 69,
   "id": "fd6b64e5",
   "metadata": {},
   "outputs": [
    {
     "name": "stdout",
     "output_type": "stream",
     "text": [
      "\n",
      "\n",
      "입력2022.03.31. 오후 3:44\n",
      "\n",
      "\n",
      "수정2022.03.31. 오후 4:41\n",
      "\n",
      "\n"
     ]
    }
   ],
   "source": [
    "print(date.get_text())"
   ]
  },
  {
   "cell_type": "markdown",
   "id": "3927dea6",
   "metadata": {},
   "source": [
    "### 3. 기사 내용 가져오기"
   ]
  },
  {
   "cell_type": "code",
   "execution_count": 71,
   "id": "5344c43f",
   "metadata": {},
   "outputs": [
    {
     "name": "stdout",
     "output_type": "stream",
     "text": [
      "\n",
      "\n",
      "\n",
      "\n",
      "\n",
      "\n",
      "반도체 냉각수의 일종인 쿨런트 전세계 생산량의 80%를 차지하는 3M 벨기에 공장이 환경 규제로 무기한 가동 중단에 들어가면서 전세계 반도체 업계에 비상이 걸렸다. 쿨런트는 반도체 제조공정에 필수적인 물질로 다른 대안이 마련되지 않는 이상 1~3개월 후면 삼성전자, SK하이닉스, 인텔 등 주요 기업들의 반도체 생산라인이 멈추는 최악의 상황도 배제할 수 없다.31일 반도체업계에 따르면 벨기에 정부가 최근 PFAS(과불화화합물) 배출에 대한 환경기준을 강화하면서 이달 8일부터 플랑드르주 즈빈드레비치에 위치한 3M공장의 반도체용 쿨런트 생산라인이 전면 가동을 멈췄다. 3M이 벨기에 정부의 강화된 새 배출 기준을 충족시킬 때까지 반도체용 쿨런트 생산 재개는 무기한 미뤄진다.상황이 급박하게 돌아가자 3M은 이달 18일 반도체 고객사들에게 쿨런트 생산 라인 중단을 안내하는 공문을 발송했다. 삼성전자와 SK하이닉스, 미국의 인텔과 대만 TSMC 등 거의 모든 세계 유수 기업들이 3M 벨기에 공장으로부터 쿨런트를 공급받는다. 3M측은 공문에서 \"정부의 환경규제 강화로 반도체용 쿨런트 생산 라인 가동이 멈췄다\"며 \"기존 재고로 물량 배분을 통해 긴급 대응하겠다\"고 밝혔다. 3M은 전세계 쿨런트 점유율 90%를 차지한다. 벨기에 공장과 미국 공장에서 쿨런트를 생산하는데, 미국 생산량은 벨기에의 10%에 불과하다. 주력 공장인 벨기에 공장 중단으로 전 세계 쿨런트 생산량의 80%가 생산되지 않는다는 얘기다. 국내 쿨런트 공급업체는 전무해 삼성전자와 SK하이닉스도 전량을 수입 중이다. 벨기에 화학기업인 솔베이가 나머지 10% 정도를 이탈리아 공장에서 공급한다.쿨런트는 반도체 회로 패턴을 만드는 식각 공정 시 온도 조절에 사용되는 냉각수의 일종이다. 온도가 조금만 달라져도 반도체가 제대로 깎여나가지 않아 정교한 작업을 위해 반드시 필요하다. 쿨런트가 없으면 필수 공정인 식각 공정을 진행할 수 없다. 3M 벨기에공장 중단이 장기화되면 재고 상황을 감안할 때 기업별로 1~3개월이면 반도체 공정이 올 스톱 될 수 있다는 전망이다. 반도체 대란을 넘어 제조업과 글로벌 경제 전반에 충격이 불가피하다. 반도체 업계 관계자는 \"타격이 메가급\"이라고 말했다.벨기에 정부가 배출 규제를 강화하고 있는 PFAS는 열에 강하고 물과 기름에 강한 방수 기능을 가져 화장품과 치실 등에 광범위하게 사용되는 물질이다. 체내에 다량으로 축적되면 호르몬 체계를 교란할 수 있다. 최근 미국과 유럽연합 등이 배출을 최소화하도록 규제 기준을 높이고 있다. 벨기에 플랑드르 환경청은 지난해 10월 29일 3M에 모든 형태의 PFAS배출을 금지하라는 긴급 안전조치를 처음 내렸다. 업계 관계자는 \"지난해 하반기 이후 규제 범위가 더욱 강화되면서 이달 결국 반도체용 쿨런트 생산 라인까지 멈추게 됐다\"고 전했다.박재근 한양대 융합전자공학부 교수(한국반도체디스플레이기술학회장)는 \"쿨런트가 없어 칠러(냉각기)가 안 돌아가면 식각공정이 불가능하다\"며 \"뛰어넘을 수 없는 공정인 식각이 없으면 아예 반도체 생산이 안되는 셈\"이라고 말했다. 박 교수는 \"전세계 반도체 생산이 안되면 메모리 가격이 폭등할 것\"이라고 덧붙였다. 24시간 돌아가야하는 반도체 공정 특성상 1분만 가동이 멈춰도 수십억에서 많게는 100억까지 경제 손실이 발생할 수 있다. SK하이닉스 관계자는 \"현재 재고로 대응 중에 있다\"며 \"상황 장기화를 대비해 수입처 다변화 방안을 검토하고 있다\"고 밝혔다. 삼성전자측도 유사한 입장으로 전해졌다.\n",
      "\n",
      "\n"
     ]
    }
   ],
   "source": [
    "mydata = soup.find('div','newsct_article')\n",
    "print(mydata.get_text())"
   ]
  }
 ],
 "metadata": {
  "kernelspec": {
   "display_name": "Python 3 (ipykernel)",
   "language": "python",
   "name": "python3"
  },
  "language_info": {
   "codemirror_mode": {
    "name": "ipython",
    "version": 3
   },
   "file_extension": ".py",
   "mimetype": "text/x-python",
   "name": "python",
   "nbconvert_exporter": "python",
   "pygments_lexer": "ipython3",
   "version": "3.8.2"
  }
 },
 "nbformat": 4,
 "nbformat_minor": 5
}
